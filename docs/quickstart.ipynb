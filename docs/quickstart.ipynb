{
 "cells": [
  {
   "cell_type": "markdown",
   "id": "ae8fd5dc-30ea-450a-b54f-61477a8ff544",
   "metadata": {},
   "source": [
    "# Quickstart"
   ]
  },
  {
   "cell_type": "markdown",
   "id": "eb335c7c",
   "metadata": {},
   "source": [
    "Generate a sample point cloud for input:"
   ]
  },
  {
   "cell_type": "code",
   "execution_count": null,
   "id": "9a1ab953",
   "metadata": {},
   "outputs": [],
   "source": [
    "# Random seed for reproducibility\n",
    "RANDOM_SEED = 42\n",
    "\n",
    "# Point cloud shape\n",
    "N_SAMPLES = 5\n",
    "N_FEATURES = 2"
   ]
  },
  {
   "cell_type": "code",
   "execution_count": null,
   "id": "079e1d35",
   "metadata": {},
   "outputs": [],
   "source": [
    "import numpy as np\n",
    "\n",
    "np.random.seed(42)\n",
    "points = np.random.rand(N_SAMPLES, N_FEATURES)"
   ]
  },
  {
   "cell_type": "markdown",
   "id": "7c1cf9dc",
   "metadata": {},
   "source": [
    "Run bounding box optimization on the point cloud:"
   ]
  },
  {
   "cell_type": "code",
   "execution_count": null,
   "id": "a2014aee",
   "metadata": {},
   "outputs": [],
   "source": [
    "import bbo\n",
    "\n",
    "bbout = bbo.run(points)"
   ]
  },
  {
   "cell_type": "markdown",
   "id": "0941bf98-c334-4e16-9c13-faa9beb101ac",
   "metadata": {},
   "source": [
    "The output is a `bbo.output.BBOOutput` object, which is a dataclass containing the optimization results:"
   ]
  },
  {
   "cell_type": "code",
   "execution_count": null,
   "id": "6a5bb137-48f6-488d-a51b-135fd2753105",
   "metadata": {},
   "outputs": [],
   "source": [
    "type(bbout)"
   ]
  },
  {
   "cell_type": "code",
   "execution_count": null,
   "id": "48a1ab1f",
   "metadata": {},
   "outputs": [],
   "source": [
    "bbout"
   ]
  },
  {
   "cell_type": "markdown",
   "id": "cdcf71f9-7d15-4b36-a850-fc40db6d97ad",
   "metadata": {},
   "source": [
    "The `box` attribute holds the coordinates of the vertices (corners) of the minimum-volume oriented bounding box (OBB) for `points` (2^n vertices for n-dimensional points):"
   ]
  },
  {
   "cell_type": "code",
   "execution_count": null,
   "id": "ccb2d544-03a6-4d26-a411-44f194b51815",
   "metadata": {},
   "outputs": [],
   "source": [
    "bbout.box"
   ]
  },
  {
   "cell_type": "code",
   "execution_count": null,
   "id": "cb0e2365",
   "metadata": {},
   "outputs": [],
   "source": [
    "assert bbout.box.shape == (2 ** N_FEATURES, N_FEATURES)"
   ]
  },
  {
   "cell_type": "markdown",
   "id": "2ca47b87-3abe-400b-aad4-d521ee320fc8",
   "metadata": {},
   "source": [
    "The volume of the OBB is stored in `volume`:"
   ]
  },
  {
   "cell_type": "code",
   "execution_count": null,
   "id": "e4c9ed50-4092-4ecd-a4b1-68de6ec33676",
   "metadata": {},
   "outputs": [],
   "source": [
    "bbout.volume"
   ]
  },
  {
   "cell_type": "code",
   "execution_count": null,
   "id": "78b20be1",
   "metadata": {},
   "outputs": [],
   "source": [
    "assert bbout.volume.shape == ()"
   ]
  },
  {
   "cell_type": "code",
   "execution_count": null,
   "id": "ff73878d",
   "metadata": {},
   "outputs": [],
   "source": [
    "recalculated_volume = np.prod(bbout.points.max(axis=-2) - bbout.points.min(axis=-2))\n",
    "assert np.allclose(bbout.volume, recalculated_volume)"
   ]
  },
  {
   "cell_type": "markdown",
   "id": "710c8543-e4c7-4232-aedd-2d9cf12db835",
   "metadata": {},
   "source": [
    "The `points` attribute holds the coordinates of the rotated points,\n",
    "i.e., the input `points` rotated so that the OBB is the same as the axis-aligned bounding box (AABB):"
   ]
  },
  {
   "cell_type": "code",
   "execution_count": null,
   "id": "d3122a9c-ca02-4293-831c-c59ba3a30000",
   "metadata": {},
   "outputs": [],
   "source": [
    "bbout.points"
   ]
  },
  {
   "cell_type": "code",
   "execution_count": null,
   "id": "fce5db78",
   "metadata": {},
   "outputs": [],
   "source": [
    "assert bbout.points.shape == (N_SAMPLES, N_FEATURES)"
   ]
  },
  {
   "cell_type": "markdown",
   "id": "0f50b052-ccb1-4edf-976b-3d282aa220e4",
   "metadata": {},
   "source": [
    "The rotation matrix used to rotate the input `points` into output `bbout.points` is stored in the `rotation` attribute:"
   ]
  },
  {
   "cell_type": "code",
   "execution_count": null,
   "id": "0c5b969e-279c-49fa-a937-b29569917077",
   "metadata": {},
   "outputs": [],
   "source": [
    "bbout.rotation"
   ]
  },
  {
   "cell_type": "code",
   "execution_count": null,
   "id": "8655826d",
   "metadata": {},
   "outputs": [],
   "source": [
    "assert bbout.rotation.shape == (N_FEATURES, N_FEATURES)"
   ]
  },
  {
   "cell_type": "code",
   "execution_count": null,
   "id": "9896826c-1cf8-41a4-bf29-e014d6ca4907",
   "metadata": {},
   "outputs": [],
   "source": [
    "assert np.array_equiv(points @ bbout.rotation, bbout.points)"
   ]
  },
  {
   "cell_type": "markdown",
   "id": "0dff51b9",
   "metadata": {},
   "source": [
    "Optimization can also be performed in a vectorized/parallelized manner with any number of leading batch dimensions:"
   ]
  },
  {
   "cell_type": "code",
   "execution_count": null,
   "id": "5672f287",
   "metadata": {},
   "outputs": [],
   "source": [
    "BATCH_SHAPE = (13, 12, 11)\n",
    "N_SAMPLES_BATCH = 10\n",
    "N_FEATURES_BATCH = 3\n",
    "point_batches = np.random.rand(*BATCH_SHAPE, N_SAMPLES_BATCH, N_FEATURES_BATCH)\n",
    "point_batches.shape"
   ]
  },
  {
   "cell_type": "code",
   "execution_count": null,
   "id": "7067f3de",
   "metadata": {},
   "outputs": [],
   "source": [
    "batch_bbout = bbo.run(point_batches)\n",
    "batch_bbout"
   ]
  },
  {
   "cell_type": "code",
   "execution_count": null,
   "id": "548487f9",
   "metadata": {},
   "outputs": [],
   "source": [
    "assert batch_bbout.box.shape == (*BATCH_SHAPE, 2 ** N_FEATURES_BATCH, N_FEATURES_BATCH)"
   ]
  },
  {
   "cell_type": "code",
   "execution_count": null,
   "id": "f30f2b21",
   "metadata": {},
   "outputs": [],
   "source": [
    "assert batch_bbout.volume.shape == (*BATCH_SHAPE, )"
   ]
  },
  {
   "cell_type": "code",
   "execution_count": null,
   "id": "398c15f4",
   "metadata": {},
   "outputs": [],
   "source": [
    "assert batch_bbout.points.shape == (*BATCH_SHAPE, N_SAMPLES_BATCH, N_FEATURES_BATCH)"
   ]
  },
  {
   "cell_type": "code",
   "execution_count": null,
   "id": "996df986",
   "metadata": {},
   "outputs": [],
   "source": [
    "assert batch_bbout.rotation.shape == (*BATCH_SHAPE, N_FEATURES_BATCH, N_FEATURES_BATCH)"
   ]
  },
  {
   "cell_type": "markdown",
   "id": "35bf85b7-a3f3-436b-9882-247bffc2858e",
   "metadata": {},
   "source": [
    "## Visualization\n",
    "\n",
    "Define visualization functions:"
   ]
  },
  {
   "cell_type": "code",
   "execution_count": null,
   "id": "f4a5a242-12de-4f0a-9627-98e798d8007e",
   "metadata": {},
   "outputs": [],
   "source": [
    "import matplotlib.pyplot as plt\n",
    "from mpl_toolkits.mplot3d.art3d import Poly3DCollection\n",
    "from scipy.spatial import ConvexHull\n",
    "\n",
    "import bbo.util\n",
    "\n",
    "\n",
    "def plot(points, bbout):\n",
    "\n",
    "    is_2d = points.shape[1] == 2\n",
    "    is_3d = points.shape[-1] == 3\n",
    "\n",
    "    # Center points for clearer visualization\n",
    "    points_before, points_after, obb_vertices = center_points(points, bbout)\n",
    "\n",
    "    # Compute convex hull to plot\n",
    "    hull_vertices_before = calculate_hull_vertices(points_before)\n",
    "    hull_vertices_after = calculate_hull_vertices(points_after)\n",
    "\n",
    "    # Compute AABB area & vertices\n",
    "    aabb_area_before, aabb_vertices_before = calculate_aabb(points_before)\n",
    "    aabb_area_after, aabb_vertices_after = calculate_aabb(points_after)\n",
    "\n",
    "    # Plot figures\n",
    "    if is_2d:\n",
    "        # Append the first vertex to close the visualization loop\n",
    "        obb_vertices = np.append(obb_vertices, [obb_vertices[0]], axis=0)\n",
    "        fig, axs = plt.subplots(1, 2, figsize=(14, 6))\n",
    "        plot_figure_2d(axs[0], points_before, hull_vertices_before, obb_vertices, aabb_vertices_before, aabb_area_before)\n",
    "        plot_figure_2d(axs[1], points_after, hull_vertices_after, obb_vertices, aabb_vertices_after, aabb_area_after, is_after=True)\n",
    "    else:\n",
    "        fig = plt.figure(figsize=(14, 6))\n",
    "        axs = [fig.add_subplot(1, 2, i+1, projection='3d') for i in range(2)]\n",
    "        plot_figure(axs[0], points_before, obb_vertices)\n",
    "        plot_figure(axs[1], points_after, obb_vertices, is_after=True)\n",
    "\n",
    "    # Global limits (cover all points and OBB box)\n",
    "    set_coordinate_axes(points_before, obb_vertices, aabb_vertices_before, aabb_vertices_after, points_after, axs=axs)\n",
    "\n",
    "    # Add global legend above plots\n",
    "    handles0, labels0 = axs[0].get_legend_handles_labels()\n",
    "    handles1, labels1 = axs[1].get_legend_handles_labels()\n",
    "    # Combine and deduplicate labels\n",
    "    handles_dict = dict(zip(labels0, handles0))  # Start with left plot entries\n",
    "    for h, l in zip(handles1, labels1):\n",
    "        if l not in handles_dict:\n",
    "            handles_dict[l] = h  # Add only new labels (e.g., AABB/OBB Frame)\n",
    "    fig.legend(\n",
    "        handles_dict.values(),\n",
    "        handles_dict.keys(),\n",
    "        loc='lower center',\n",
    "        bbox_to_anchor=(0.5, -0.07) if is_2d else None,\n",
    "        ncol=5,\n",
    "        frameon=True\n",
    "    )\n",
    "\n",
    "    # Layout adjustments\n",
    "    plt.tight_layout(rect=[0, 0.07, 1, 1] if is_3d else None)\n",
    "    # Reserve space for legend above\n",
    "    # plt.subplots_adjust(bottom=1.9)\n",
    "    # Show the plot\n",
    "    plt.show()\n",
    "    return\n",
    "\n",
    "\n",
    "def center_points(points, bbout):\n",
    "    \"\"\"Center points around the mean for clearer visualization.\"\"\"\n",
    "    points_before_mean = points.mean(axis=0)\n",
    "    points_before = points - points_before_mean\n",
    "    points_after = bbout.points - bbout.points.mean(axis=0)\n",
    "    obb_vertices = bbout.box - points_before_mean\n",
    "    return points_before, points_after, obb_vertices\n",
    "\n",
    "\n",
    "def calculate_hull_vertices(points):\n",
    "    \"\"\"Calculate convex hull vertices for visualization purposes.\"\"\"\n",
    "    hull = ConvexHull(points)\n",
    "    # Append the first vertex to close the visualization loop\n",
    "    vertices = np.append(hull.vertices, [hull.vertices[0]])\n",
    "    return vertices\n",
    "\n",
    "\n",
    "def calculate_aabb(points):\n",
    "    \"\"\"Calculate AABB vertices and area for visualization purposes.\"\"\"\n",
    "    aabb_lower = np.min(points, axis=0)\n",
    "    aabb_upper = np.max(points, axis=0)\n",
    "    aabb_area = np.prod(aabb_upper - aabb_lower)\n",
    "    aabb_vertices = bbo.util.box_vertices_from_bounds(aabb_lower, aabb_upper)\n",
    "    # Append the first vertex to close the visualization loop\n",
    "    aabb_box = np.append(aabb_vertices, [aabb_vertices[0]], axis=0)\n",
    "    return aabb_area, aabb_box\n",
    "\n",
    "\n",
    "def set_coordinate_axes(*point_sets, axs, margin: float = 0.05):\n",
    "    # Match X and Y limits across subplots\n",
    "    ndim = point_sets[0].shape[-1]\n",
    "    for axis_idx, axis_name in zip(range(ndim), ['x', 'y', 'z']):\n",
    "        all_values = np.concatenate([point_set[:, axis_idx] for point_set in point_sets])\n",
    "        axis_margin = (all_values.max() - all_values.min()) * margin\n",
    "        axis_limits = (all_values.min() - axis_margin, all_values.max() + axis_margin)\n",
    "        for ax in axs:\n",
    "            lim_setter = getattr(ax, f'set_{axis_name}lim')\n",
    "            lim_setter(axis_limits)\n",
    "            label_setter = getattr(ax, f'set_{axis_name}label')\n",
    "            label_setter(axis_name)\n",
    "    return\n",
    "\n",
    "\n",
    "def plot_figure_2d(ax, points, hull_vertices, obb_vertices, aabb_vertices, aabb_area, is_after: bool = False):\n",
    "    \"\"\"Plot the points, convex hull, and AABB/OBB.\"\"\"\n",
    "    ax.scatter(points[:, 0], points[:, 1], color=\"black\", label=\"Points\", zorder=3)\n",
    "    ax.plot(\n",
    "        points[hull_vertices, 0],\n",
    "        points[hull_vertices, 1],\n",
    "        'r--',\n",
    "        lw=1,\n",
    "        label=\"Convex Hull\",\n",
    "        zorder=2\n",
    "    )\n",
    "    ax.plot(\n",
    "        aabb_vertices[:, 0],\n",
    "        aabb_vertices[:, 1],\n",
    "        f'{\"g\" if is_after else \"b\"}-.',\n",
    "        lw=2,\n",
    "        label=f\"{\"AABB/OBB\" if is_after else \"AABB\"} (area = {aabb_area:.2f})\",\n",
    "        zorder=1,\n",
    "    )\n",
    "    if not is_after:\n",
    "        ax.plot(\n",
    "            obb_vertices[:, 0],\n",
    "            obb_vertices[:, 1],\n",
    "            'g-',\n",
    "            lw=2,\n",
    "            label=f\"OBB (area = {bbout.volume:.2f})\",\n",
    "            zorder=4\n",
    "        )\n",
    "    # Aspect ratio\n",
    "    ax.set_aspect('equal', adjustable='box')\n",
    "    ax.set_title(f\"{\"Rotated\" if is_after else \"Original\"} Points\")\n",
    "    return\n",
    "\n",
    "\n",
    "def plot_box(ax, vertices, color, alpha, label):\n",
    "    faces = [\n",
    "        [0, 1, 2, 3], [4, 5, 6, 7],  # bottom, top\n",
    "        [0, 1, 5, 4], [2, 3, 7, 6],  # front, back\n",
    "        [0, 3, 7, 4], [1, 2, 6, 5]   # left, right\n",
    "    ]\n",
    "    poly3d = [[vertices[i] for i in face] for face in faces]\n",
    "    collection = Poly3DCollection(poly3d, alpha=alpha, facecolor=color, edgecolor='k', linewidths=0.5, label=label)\n",
    "    ax.add_collection3d(collection)\n",
    "\n",
    "\n",
    "def plot_aabb(ax, points, is_after: bool = False):\n",
    "    aabb_lower = points.min(axis=0)\n",
    "    aabb_upper = points.max(axis=0)\n",
    "    aabb_vertices = bbo.util.box_vertices_from_bounds(aabb_lower, aabb_upper)\n",
    "    aabb_volume = np.prod(aabb_upper - aabb_lower)\n",
    "    plot_box(ax, aabb_vertices, color='g' if is_after else 'c', alpha=0.2, label=f\"{\"AABB/OBB\" if is_after else \"AABB\"} (volume = {aabb_volume:.2f})\")\n",
    "    return\n",
    "\n",
    "\n",
    "def plot_figure(ax, points, obb_vertices, is_after: bool = False):\n",
    "    ax.scatter(points[:, 0], points[:, 1], points[:, 2], s=10, color=\"black\", label=\"Points\")\n",
    "    hull = ConvexHull(points)\n",
    "    for simplex in hull.simplices:\n",
    "        ax.plot(points[simplex, 0], points[simplex, 1], points[simplex, 2], 'r--', label=\"Convex Hull\", lw=0.5)\n",
    "    plot_aabb(ax, points, is_after=is_after)\n",
    "    if not is_after:\n",
    "        plot_box(ax, obb_vertices, color='g', alpha=0.2, label=f\"OBB (volume = {bbout.volume:.2f})\")\n",
    "    ax.set_title(f\"{\"Rotated\" if is_after else \"Original\"} Points\")\n",
    "    return"
   ]
  },
  {
   "cell_type": "markdown",
   "id": "112549dc",
   "metadata": {},
   "source": [
    "### 2D Points\n",
    "\n",
    "Generate a 2D point cloud as sample input:"
   ]
  },
  {
   "cell_type": "code",
   "execution_count": null,
   "id": "61c65137-9742-4e10-bb47-2ebb1dda78d8",
   "metadata": {},
   "outputs": [],
   "source": [
    "import arrayer\n",
    "\n",
    "points = arrayer.pcloud.cylinder(\n",
    "    n_points=30,\n",
    "    radius=0.5,\n",
    "    start=(-1, -1, -1),\n",
    "    end=(1, 1, 1)\n",
    ")[..., :2]\n",
    "bbout = bbo.run(points)\n",
    "plot(points, bbout)"
   ]
  },
  {
   "cell_type": "markdown",
   "id": "441722e4",
   "metadata": {},
   "source": [
    "### 3D Points"
   ]
  },
  {
   "cell_type": "code",
   "execution_count": null,
   "id": "f574966a",
   "metadata": {},
   "outputs": [],
   "source": [
    "%matplotlib widget\n",
    "points = arrayer.pcloud.cylinder(radius=0.5, n_points=30, start=(-1, -1, -1), end=(1, 1, 1))\n",
    "bbout = bbo.hull.run(points)\n",
    "plot(points, bbout)"
   ]
  }
 ],
 "metadata": {
  "kernelspec": {
   "display_name": "opencadd",
   "language": "python",
   "name": "python3"
  },
  "language_info": {
   "codemirror_mode": {
    "name": "ipython",
    "version": 3
   },
   "file_extension": ".py",
   "mimetype": "text/x-python",
   "name": "python",
   "nbconvert_exporter": "python",
   "pygments_lexer": "ipython3",
   "version": "3.12.10"
  }
 },
 "nbformat": 4,
 "nbformat_minor": 5
}
